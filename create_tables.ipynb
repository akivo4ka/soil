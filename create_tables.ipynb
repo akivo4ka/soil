{
 "cells": [
  {
   "cell_type": "code",
   "execution_count": 223,
   "metadata": {},
   "outputs": [],
   "source": [
    "import pandas as pd\n",
    "import psycopg2"
   ]
  },
  {
   "cell_type": "code",
   "execution_count": 228,
   "metadata": {},
   "outputs": [],
   "source": [
    "path = \"soil-main\\\\tables_descript.xlsx\"\n",
    "table_names = pd.read_excel(path, header=None).values\n",
    "QUERY = \"CREATE TABLE {} (ID serial PRIMARY KEY, {});\"\n",
    "queries = {}\n",
    "for table_name in table_names:\n",
    "    name = str(table_name[0])\n",
    "    df = pd.read_excel(path, sheet_name=name, header=None)\n",
    "    q = \"\"\n",
    "    for v in df.values:\n",
    "        v[0] = \"NA\" if isinstance(v[0], float) else v[0]\n",
    "        q += \"{} {}, \".format(*v)\n",
    "    queries[name] = QUERY.format(name, q[:-2])"
   ]
  },
  {
   "cell_type": "code",
   "execution_count": 229,
   "metadata": {
    "scrolled": false
   },
   "outputs": [
    {
     "name": "stdout",
     "output_type": "stream",
     "text": [
      "SOIL_SEM SUCCESS\n",
      "SOIL_DATA SUCCESS\n",
      "SOIL_MAIN_HORIZONS SUCCESS\n",
      "SOIL_ADD_HORIZONS SUCCESS\n",
      "SOIL_DATA_ADD_HORIZONS SUCCESS\n",
      "SOIL_MORPH SUCCESS\n",
      "SOIL_DATA_MORPH SUCCESS\n",
      "SOIL_MORPH_ELEM SUCCESS\n",
      "SOIL_DATA_MORPH_ELEM SUCCESS\n",
      "SOIL_CHEM SUCCESS\n",
      "SOIL_DATA_CHEM SUCCESS\n",
      "SOIL_PHYS SUCCESS\n",
      "SOIL_DATA_PHYS SUCCESS\n",
      "SOIL_MAP_LEGEND SUCCESS\n",
      "SOIL_MAP_PARENT_LEGEND SUCCESS\n",
      "SOIL_MAP SUCCESS\n"
     ]
    }
   ],
   "source": [
    "for name, query in queries.items():\n",
    "    try:\n",
    "        conn = psycopg2.connect(\"\"\"\n",
    "            host=rc1a-6fz5ned1qx1wmx9o.mdb.yandexcloud.net\n",
    "            port=6432\n",
    "            dbname=agro\n",
    "            user=dev\n",
    "            password=H@v3-@-n1c3_daY!\n",
    "            target_session_attrs=read-write\n",
    "            sslmode=verify-full\n",
    "        \"\"\")\n",
    "        cur = conn.cursor()\n",
    "        cur.execute(query)\n",
    "        conn.commit()\n",
    "        print(\"{} SUCCESS\".format(name))\n",
    "    except BaseException as e:\n",
    "        print(\"{} FAIL\\nQUERY:\\n{}\".format(name, query))\n",
    "        print(str(e))\n",
    "    finally:\n",
    "        cur.close()\n",
    "        conn.close()"
   ]
  },
  {
   "cell_type": "code",
   "execution_count": null,
   "metadata": {},
   "outputs": [],
   "source": []
  }
 ],
 "metadata": {
  "kernelspec": {
   "display_name": "Python 3",
   "language": "python",
   "name": "python3"
  },
  "language_info": {
   "codemirror_mode": {
    "name": "ipython",
    "version": 3
   },
   "file_extension": ".py",
   "mimetype": "text/x-python",
   "name": "python",
   "nbconvert_exporter": "python",
   "pygments_lexer": "ipython3",
   "version": "3.8.3"
  }
 },
 "nbformat": 4,
 "nbformat_minor": 4
}
