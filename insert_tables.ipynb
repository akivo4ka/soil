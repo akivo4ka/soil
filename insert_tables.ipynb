{
 "cells": [
  {
   "cell_type": "code",
   "execution_count": 105,
   "metadata": {},
   "outputs": [],
   "source": [
    "import psycopg2\n",
    "import pandas as pd\n",
    "import numpy as np"
   ]
  },
  {
   "cell_type": "code",
   "execution_count": 106,
   "metadata": {},
   "outputs": [],
   "source": [
    "names = [\n",
    "    'SOIL_SEM',\n",
    "    'SOIL_MAIN_HORIZONS',\n",
    "    'SOIL_ADD_HORIZONS',\n",
    "    'SOIL_MORPH',\n",
    "    'SOIL_MORPH_ELEM',\n",
    "    'SOIL_CHEM',\n",
    "    'SOIL_PHYS',\n",
    "    'SOIL_MAP_LEGEND',\n",
    "    'SOIL_MAP_PARENT_LEGEND',\n",
    "    'SOIL_MAP',\n",
    "    'SOIL_DATA'\n",
    "]"
   ]
  },
  {
   "cell_type": "code",
   "execution_count": 107,
   "metadata": {},
   "outputs": [],
   "source": [
    "QUERY = \"\"\"INSERT INTO {} ({}) VALUES ({})\"\"\""
   ]
  },
  {
   "cell_type": "code",
   "execution_count": 108,
   "metadata": {},
   "outputs": [],
   "source": [
    "def nan_to_null(f, _NULL=psycopg2.extensions.AsIs('NULL'), _Float=psycopg2.extensions.Float):\n",
    "    if not np.isnan(f):\n",
    "        return _Float(f)\n",
    "    return _NULL\n",
    "\n",
    "psycopg2.extensions.register_adapter(float, nan_to_null)"
   ]
  },
  {
   "cell_type": "code",
   "execution_count": 109,
   "metadata": {},
   "outputs": [
    {
     "name": "stdout",
     "output_type": "stream",
     "text": [
      "SOIL_SEM SUCCESS\n",
      "SOIL_MAIN_HORIZONS SUCCESS\n",
      "SOIL_ADD_HORIZONS SUCCESS\n",
      "SOIL_MORPH SUCCESS\n",
      "SOIL_MORPH_ELEM SUCCESS\n",
      "SOIL_CHEM SUCCESS\n",
      "SOIL_PHYS SUCCESS\n",
      "SOIL_MAP_LEGEND SUCCESS\n",
      "SOIL_MAP_PARENT_LEGEND SUCCESS\n",
      "SOIL_MAP SUCCESS\n",
      "SOIL_DATA SUCCESS\n"
     ]
    }
   ],
   "source": [
    "for name in names:\n",
    "    file = \"soil-main\\\\{}.xlsx\".format(name.lower())\n",
    "    df = pd.read_excel(file)\n",
    "    joined_columns = ', '.join(df.columns)\n",
    "    number_of_columns = len(df.columns)\n",
    "    joined_s = ', '.join(['%s'] * number_of_columns)\n",
    "    query = QUERY.format(name, joined_columns, joined_s)\n",
    "    values = df.values\n",
    "    try:\n",
    "        conn = psycopg2.connect(\"\"\"\n",
    "            host=rc1a-6fz5ned1qx1wmx9o.mdb.yandexcloud.net\n",
    "            port=6432\n",
    "            dbname=agro\n",
    "            user=dev\n",
    "            password=H@v3-@-n1c3_daY!\n",
    "            target_session_attrs=read-write\n",
    "            sslmode=verify-full\n",
    "        \"\"\")\n",
    "        cur = conn.cursor()\n",
    "        cur.executemany(query, values)\n",
    "        conn.commit()\n",
    "        print(\"{} SUCCESS\".format(name))\n",
    "    except:\n",
    "        print(\"{} FAIL\".format(name))\n",
    "        print(query)\n",
    "    finally:\n",
    "        cur.close()\n",
    "        conn.close()"
   ]
  },
  {
   "cell_type": "code",
   "execution_count": null,
   "metadata": {},
   "outputs": [],
   "source": []
  }
 ],
 "metadata": {
  "kernelspec": {
   "display_name": "Python 3",
   "language": "python",
   "name": "python3"
  },
  "language_info": {
   "codemirror_mode": {
    "name": "ipython",
    "version": 3
   },
   "file_extension": ".py",
   "mimetype": "text/x-python",
   "name": "python",
   "nbconvert_exporter": "python",
   "pygments_lexer": "ipython3",
   "version": "3.8.3"
  }
 },
 "nbformat": 4,
 "nbformat_minor": 4
}
